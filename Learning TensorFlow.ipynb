{
 "cells": [
  {
   "cell_type": "markdown",
   "metadata": {},
   "source": [
    "https://www.tensorflow.org/ \n",
    "\n",
    "![TensorFlow](images/tensorflow.png)\n",
    "\n",
    "# Learning TensorFlow\n",
    "\n",
    "\n",
    "\n"
   ]
  },
  {
   "cell_type": "markdown",
   "metadata": {},
   "source": [
    "## Install \n",
    "\n",
    "Install using conda in linux\n",
    "```bash\n",
    "conda create -n tensorflow python=3.5\n",
    "source activate tensorflow\n",
    "conda install pandas matplotlib jupyter notebook scipy scikit-learn\n",
    "pip install tensorflow\n",
    "```"
   ]
  },
  {
   "cell_type": "markdown",
   "metadata": {},
   "source": [
    "## Write the first program "
   ]
  },
  {
   "cell_type": "code",
   "execution_count": 1,
   "metadata": {},
   "outputs": [
    {
     "name": "stdout",
     "output_type": "stream",
     "text": [
      "b'Hello World !'\n"
     ]
    }
   ],
   "source": [
    "import tensorflow as tf\n",
    "helloworld = tf.constant(\"Hello World !\") # Objects created by TF is call tensor\n",
    "output = tf.Session().run(helloworld)     # Run the constant in the TF session\n",
    "print(output)"
   ]
  },
  {
   "cell_type": "markdown",
   "metadata": {},
   "source": [
    "# Tensor\n",
    "\n",
    "A mathematical object analogous to but more general than a vector, represented by an array of components that are functions of the coordinates of a space. **The central unit of data in TensorFlow is the tensor**. Everything store in TF as a tensor object.\n",
    "\n",
    "## Rank 0 Tensor\n",
    "\n",
    "Scaler is a rank 0 tensor and in TF it represent as follows \n",
    "\n",
    "```\n",
    "A = tf.constant(123)\n",
    "``` \n",
    "\n",
    "*This is a constant tensor that does not change*\n",
    "\n",
    "## Rank 1 Tensor\n",
    "\n",
    "Vector is a rank 1 tensor and in TF it represents as follows \n",
    "\n",
    "```\n",
    "B = ft.constant([23, 49, 42])\n",
    "```\n",
    "\n",
    "## Rank 2 Tensor \n",
    "\n",
    "Matrix is a rank 2 tensor and in TF it represent as follows\n",
    "\n",
    "```\n",
    "C = ft.constant([[23,21,89], [34,982,83]])\n",
    "```\n",
    "\n",
    "## Rank 3 Tensor \n",
    "\n",
    "3D array can be represented as a rank 3 tensor and in TF it represent as follows\n",
    "\n",
    "```\n",
    "D = ft.constant([[[1., 2., 3.]], [[7., 8., 9.]]])\n",
    "```\n"
   ]
  },
  {
   "cell_type": "markdown",
   "metadata": {},
   "source": [
    "# Session\n",
    "\n",
    "TF api is build around the idea of building a computational grpah of notes and running them. A session encapsulates the control and state of the TensorFlow runtime. \n",
    "\n",
    "\n",
    "## Work with constant tensors"
   ]
  },
  {
   "cell_type": "code",
   "execution_count": 2,
   "metadata": {},
   "outputs": [
    {
     "name": "stdout",
     "output_type": "stream",
     "text": [
      "Tensor(\"Const_1:0\", shape=(), dtype=float32)\n"
     ]
    }
   ],
   "source": [
    "node1 = tf.constant(3.0, dtype=tf.float32)\n",
    "node2 = tf.constant(4.0) \n",
    "print(node1)"
   ]
  },
  {
   "cell_type": "markdown",
   "metadata": {},
   "source": [
    "Add *node1* and *node2*. This will procuce a another tensor. "
   ]
  },
  {
   "cell_type": "code",
   "execution_count": 3,
   "metadata": {},
   "outputs": [],
   "source": [
    "node3 = tf.add(node1, node2)"
   ]
  },
  {
   "cell_type": "markdown",
   "metadata": {},
   "source": [
    "![](images/tf.add.run.jpeg)"
   ]
  },
  {
   "cell_type": "code",
   "execution_count": 4,
   "metadata": {},
   "outputs": [
    {
     "data": {
      "text/plain": [
       "7.0"
      ]
     },
     "execution_count": 4,
     "metadata": {},
     "output_type": "execute_result"
    }
   ],
   "source": [
    "sess = tf.Session()\n",
    "sess.run(node3)"
   ]
  },
  {
   "cell_type": "markdown",
   "metadata": {},
   "source": [
    "## Work with non-constant tensors "
   ]
  },
  {
   "cell_type": "code",
   "execution_count": null,
   "metadata": {
    "collapsed": true
   },
   "outputs": [],
   "source": []
  }
 ],
 "metadata": {
  "kernelspec": {
   "display_name": "Python 3",
   "language": "python",
   "name": "python3"
  },
  "language_info": {
   "codemirror_mode": {
    "name": "ipython",
    "version": 3
   },
   "file_extension": ".py",
   "mimetype": "text/x-python",
   "name": "python",
   "nbconvert_exporter": "python",
   "pygments_lexer": "ipython3",
   "version": "3.5.3"
  },
  "latex_envs": {
   "bibliofile": "biblio.bib",
   "cite_by": "apalike",
   "current_citInitial": 1,
   "eqLabelWithNumbers": true,
   "eqNumInitial": 0
  },
  "toc": {
   "toc_cell": false,
   "toc_number_sections": true,
   "toc_threshold": 6,
   "toc_window_display": false
  }
 },
 "nbformat": 4,
 "nbformat_minor": 2
}
