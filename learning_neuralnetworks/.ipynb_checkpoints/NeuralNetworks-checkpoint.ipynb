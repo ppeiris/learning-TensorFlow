{
 "cells": [
  {
   "cell_type": "markdown",
   "metadata": {},
   "source": [
    "# Building a Neural Network from Scratch "
   ]
  },
  {
   "cell_type": "code",
   "execution_count": 103,
   "metadata": {
    "collapsed": true
   },
   "outputs": [],
   "source": [
    "import numpy as np\n",
    "import pandas as pd"
   ]
  },
  {
   "cell_type": "markdown",
   "metadata": {},
   "source": [
    "# Input Data"
   ]
  },
  {
   "cell_type": "code",
   "execution_count": 104,
   "metadata": {
    "collapsed": false
   },
   "outputs": [],
   "source": [
    "data = pd.read_csv(\"data.csv\")\n",
    "data_leatures = data[[\"gre\", \"gpa\", \"rank\"]]\n",
    "data_lables = data[\"admit\"]\n",
    "X = data_leatures.as_matrix()\n",
    "X = X[:10]\n",
    "X.shape\n",
    "layer_x_activation = {\n",
    "    'relu': lambda x: np.maximum(0, x),\n",
    "    'sigmoid': lambda x: 1/(1+np.exp(-x))\n",
    "}"
   ]
  },
  {
   "cell_type": "markdown",
   "metadata": {},
   "source": [
    "# Compute First Hidden Layer Values"
   ]
  },
  {
   "cell_type": "markdown",
   "metadata": {},
   "source": [
    "## Initialize Weights for the first hidden layer"
   ]
  },
  {
   "cell_type": "code",
   "execution_count": 105,
   "metadata": {
    "collapsed": true
   },
   "outputs": [],
   "source": [
    "layer_1_NumberOfHiddenNeurons = 4"
   ]
  },
  {
   "cell_type": "code",
   "execution_count": 106,
   "metadata": {
    "collapsed": false
   },
   "outputs": [],
   "source": [
    "NumberOfRowsInW1 = X.shape[1] # number of data points we have per input ([gre, gpa, rank] = 3)\n",
    "NumberOfColsInW1 = layer_1_NumberOfHiddenNeurons\n",
    "W1 = np.random.rand(NumberOfRowsInW1, NumberOfColsInW1) * 0.01 # row x col"
   ]
  },
  {
   "cell_type": "code",
   "execution_count": 107,
   "metadata": {
    "collapsed": false
   },
   "outputs": [
    {
     "data": {
      "text/plain": [
       "array([[ 0.0045398 ,  0.00530545,  0.00014032,  0.0048914 ],\n",
       "       [ 0.00795652,  0.00712772,  0.00978047,  0.00698622],\n",
       "       [ 0.00858727,  0.00081269,  0.00289471,  0.00494439]])"
      ]
     },
     "execution_count": 107,
     "metadata": {},
     "output_type": "execute_result"
    }
   ],
   "source": [
    "W1"
   ]
  },
  {
   "cell_type": "markdown",
   "metadata": {},
   "source": [
    "## Compute Sums\n",
    "\n",
    "\n",
    " First_hidden_layer_sums $=\\sum_{i} X_iW_{ij}$\n"
   ]
  },
  {
   "cell_type": "code",
   "execution_count": 108,
   "metadata": {
    "collapsed": false
   },
   "outputs": [
    {
     "data": {
      "text/plain": [
       "array([[ 1.77960919,  2.04424136,  0.09731497,  1.89878463],\n",
       "       [ 3.05123081,  3.53019592,  0.13719268,  3.26879522],\n",
       "       [ 3.67225403,  4.27368614,  0.15427627,  3.9460076 ],\n",
       "       [ 2.96520293,  3.42147823,  0.13258627,  3.17255826],\n",
       "       [ 2.41835814,  2.78297064,  0.1132044 ,  2.58377409],\n",
       "       [ 3.49129275,  4.05515298,  0.14177752,  3.74830985],\n",
       "       [ 2.57458618,  2.9931071 ,  0.11062229,  2.76494616],\n",
       "       [ 1.85760097,  2.14576004,  0.0920431 ,  1.9879655 ],\n",
       "       [ 2.50422688,  2.89154577,  0.1176152 ,  2.67987132],\n",
       "       [ 3.2262247 ,  3.74338329,  0.14235608,  3.4612533 ]])"
      ]
     },
     "execution_count": 108,
     "metadata": {},
     "output_type": "execute_result"
    }
   ],
   "source": [
    "hidden_later_1_sums = np.dot(X, W1)\n",
    "hidden_later_1_sums"
   ]
  },
  {
   "cell_type": "markdown",
   "metadata": {
    "collapsed": false
   },
   "source": [
    "![title](images/nn_layer1.jpg)"
   ]
  },
  {
   "cell_type": "markdown",
   "metadata": {},
   "source": [
    "## First Hidden Layer Activation function\n",
    "\n",
    "\n",
    "Use the ReLu actication function in the first Layer.\n",
    "\n"
   ]
  },
  {
   "cell_type": "code",
   "execution_count": 109,
   "metadata": {
    "collapsed": false
   },
   "outputs": [],
   "source": [
    "hidden_later_1_activation = layer_x_activation['sigmoid'](hidden_later_1_sums)"
   ]
  },
  {
   "cell_type": "markdown",
   "metadata": {},
   "source": [
    "![title](images/nn_layer2.jpg)"
   ]
  },
  {
   "cell_type": "code",
   "execution_count": 110,
   "metadata": {
    "collapsed": false
   },
   "outputs": [
    {
     "data": {
      "text/plain": [
       "array([[ 0.8556486 ,  0.88536445,  0.52430956,  0.86975391],\n",
       "       [ 0.95483563,  0.97153483,  0.53424448,  0.96334265],\n",
       "       [ 0.975211  ,  0.98626105,  0.53849275,  0.9810349 ],\n",
       "       [ 0.95097712,  0.96836908,  0.5330981 ,  0.95978844],\n",
       "       [ 0.91821653,  0.94174862,  0.52827091,  0.92980998],\n",
       "       [ 0.970439  ,  0.98296248,  0.53538513,  0.97698466],\n",
       "       [ 0.92920797,  0.95226176,  0.5276274 ,  0.94075192],\n",
       "       [ 0.86501708,  0.8952719 ,  0.52299454,  0.87952773],\n",
       "       [ 0.92443761,  0.94742693,  0.52936995,  0.9358284 ],\n",
       "       [ 0.96180932,  0.97687362,  0.53552904,  0.96956497]])"
      ]
     },
     "execution_count": 110,
     "metadata": {},
     "output_type": "execute_result"
    }
   ],
   "source": [
    "hidden_later_1_activation"
   ]
  },
  {
   "cell_type": "code",
   "execution_count": 111,
   "metadata": {
    "collapsed": false
   },
   "outputs": [
    {
     "data": {
      "text/plain": [
       "(10, 4)"
      ]
     },
     "execution_count": 111,
     "metadata": {},
     "output_type": "execute_result"
    }
   ],
   "source": [
    "hidden_later_1_output = hidden_later_1_activation\n",
    "hidden_later_1_output.shape"
   ]
  },
  {
   "cell_type": "markdown",
   "metadata": {},
   "source": [
    "# Compute Second Hidden Layer Values"
   ]
  },
  {
   "cell_type": "markdown",
   "metadata": {},
   "source": [
    "## Initialize Weights for the second hidden layer"
   ]
  },
  {
   "cell_type": "code",
   "execution_count": 112,
   "metadata": {
    "collapsed": true
   },
   "outputs": [],
   "source": [
    "layer_2_NumberOfHiddenNeurons = 3"
   ]
  },
  {
   "cell_type": "code",
   "execution_count": 113,
   "metadata": {
    "collapsed": true
   },
   "outputs": [],
   "source": [
    "NumberOfRowsInW2 = hidden_later_1_output.shape[1] # Number of rows = number of data points\n",
    "NumberOfColsInW2 = layer_2_NumberOfHiddenNeurons # number of neurons in hidden layer 2\n",
    "W2 = np.random.rand(NumberOfRowsInW2, NumberOfColsInW2)"
   ]
  },
  {
   "cell_type": "code",
   "execution_count": 114,
   "metadata": {
    "collapsed": false
   },
   "outputs": [
    {
     "data": {
      "text/plain": [
       "array([[ 0.84251786,  0.37802351,  0.80874296],\n",
       "       [ 0.52214607,  0.2735148 ,  0.68791546],\n",
       "       [ 0.01971462,  0.21875054,  0.84411023],\n",
       "       [ 0.43052404,  0.20948313,  0.45272024]])"
      ]
     },
     "execution_count": 114,
     "metadata": {},
     "output_type": "execute_result"
    }
   ],
   "source": [
    "W2"
   ]
  },
  {
   "cell_type": "markdown",
   "metadata": {},
   "source": [
    "## Compute Sums"
   ]
  },
  {
   "cell_type": "code",
   "execution_count": 115,
   "metadata": {
    "collapsed": true
   },
   "outputs": [],
   "source": [
    "hidden_later_2_sums = np.dot(hidden_later_1_output, W2)"
   ]
  },
  {
   "cell_type": "code",
   "execution_count": 116,
   "metadata": {
    "collapsed": false
   },
   "outputs": [
    {
     "data": {
      "text/plain": [
       "array([[ 1.56797532,  0.86250733,  2.13738594],\n",
       "       [ 1.73702376,  0.94534977,  2.32763637],\n",
       "       [ 1.76958031,  0.96171552,  2.36584086],\n",
       "       [ 1.73056714,  0.94202996,  2.31976133],\n",
       "       [ 1.67606438,  0.91502867,  2.25730728],\n",
       "       [ 1.76203248,  0.95748113,  2.35525559],\n",
       "       [ 1.69551234,  0.92421057,  2.27783912],\n",
       "       [ 1.58522351,  0.87051846,  2.15509291],\n",
       "       [ 1.68688339,  0.92043466,  2.26989709],\n",
       "       [ 1.74839103,  0.95103069,  2.34085021]])"
      ]
     },
     "execution_count": 116,
     "metadata": {},
     "output_type": "execute_result"
    }
   ],
   "source": [
    "hidden_later_2_sums"
   ]
  },
  {
   "cell_type": "markdown",
   "metadata": {},
   "source": [
    "## Second Hidden Layer Activation"
   ]
  },
  {
   "cell_type": "code",
   "execution_count": 117,
   "metadata": {
    "collapsed": false
   },
   "outputs": [],
   "source": [
    "hidden_later_2_activation = layer_x_activation['sigmoid'](hidden_later_2_sums)"
   ]
  },
  {
   "cell_type": "code",
   "execution_count": 118,
   "metadata": {
    "collapsed": false
   },
   "outputs": [
    {
     "data": {
      "text/plain": [
       "array([[ 0.82749478,  0.70318424,  0.89448414],\n",
       "       [ 0.85030863,  0.72017902,  0.91114015],\n",
       "       [ 0.85440547,  0.72346515,  0.91418513],\n",
       "       [ 0.84948495,  0.71950952,  0.91050049],\n",
       "       [ 0.84238269,  0.71402808,  0.90527898],\n",
       "       [ 0.85346403,  0.7226172 ,  0.91335106],\n",
       "       [ 0.84494771,  0.71589926,  0.90702498],\n",
       "       [ 0.82994302,  0.70485357,  0.89614373],\n",
       "       [ 0.84381386,  0.71513066,  0.90635305],\n",
       "       [ 0.85174975,  0.72132241,  0.9122042 ]])"
      ]
     },
     "execution_count": 118,
     "metadata": {},
     "output_type": "execute_result"
    }
   ],
   "source": [
    "hidden_later_2_output = hidden_later_2_activation\n",
    "hidden_later_2_output"
   ]
  },
  {
   "cell_type": "markdown",
   "metadata": {},
   "source": [
    "![title](images/nn_full_layer2.jpg)"
   ]
  },
  {
   "cell_type": "markdown",
   "metadata": {},
   "source": [
    "# Compute Third Hidden Layer Values "
   ]
  },
  {
   "cell_type": "code",
   "execution_count": 119,
   "metadata": {
    "collapsed": true
   },
   "outputs": [],
   "source": [
    "layer_3_NumberOfHiddenNeurons = 1"
   ]
  },
  {
   "cell_type": "code",
   "execution_count": 120,
   "metadata": {
    "collapsed": false
   },
   "outputs": [],
   "source": [
    "NumberOfRowsInW3 = hidden_later_2_output.shape[1] # Number of rows = number of data points\n",
    "NumberOfColsInW3 = layer_3_NumberOfHiddenNeurons # number of neurons in hidden layer 2\n",
    "W3 = np.random.rand(NumberOfRowsInW3, NumberOfColsInW3)\n",
    "hidden_later_3_sums = layer_x_activation['sigmoid'](np.dot(hidden_later_2_output, W3))"
   ]
  },
  {
   "cell_type": "code",
   "execution_count": 122,
   "metadata": {
    "collapsed": false
   },
   "outputs": [],
   "source": [
    "y_hat = hidden_later_3_sums"
   ]
  },
  {
   "cell_type": "markdown",
   "metadata": {},
   "source": [
    "# Predictions"
   ]
  },
  {
   "cell_type": "code",
   "execution_count": 124,
   "metadata": {
    "collapsed": false
   },
   "outputs": [
    {
     "data": {
      "text/plain": [
       "array([[ 0.65172292],\n",
       "       [ 0.65522443],\n",
       "       [ 0.65589137],\n",
       "       [ 0.65508876],\n",
       "       [ 0.6539677 ],\n",
       "       [ 0.65572232],\n",
       "       [ 0.65435423],\n",
       "       [ 0.65207301],\n",
       "       [ 0.65419341],\n",
       "       [ 0.65545697]])"
      ]
     },
     "execution_count": 124,
     "metadata": {},
     "output_type": "execute_result"
    }
   ],
   "source": [
    "y_hat"
   ]
  },
  {
   "cell_type": "markdown",
   "metadata": {
    "collapsed": true
   },
   "source": [
    "# Backpropagation\n",
    "\n",
    "backpropagation will consist of:\n",
    "\n",
    "- Doing a feedforward operation.\n",
    "- Comparing the output of the model with the desired output.\n",
    "- Calculating the error.\n",
    "- Running the feedforward operation backwards (backpropagation) to spread the error to each of the weights.\n",
    "- Use this to update the weights, and get a better model.\n",
    "- Continue this until we have a model that is good.\n",
    "\n",
    "## Prediction\n",
    "\n",
    "$\\hat y=\\sigma(Wx+b)$\n",
    "\n",
    "## Error Function \n",
    "\n",
    "$E(W)=-\\frac{1}{m}\\sum_{i=1}^{m}y_iln(\\hat y_i) + (1-y_i)ln(1-\\hat y_i)$\n",
    "\n",
    "\n"
   ]
  },
  {
   "cell_type": "code",
   "execution_count": null,
   "metadata": {
    "collapsed": true
   },
   "outputs": [],
   "source": []
  }
 ],
 "metadata": {
  "anaconda-cloud": {},
  "kernelspec": {
   "display_name": "Python [conda env:carnd-term1]",
   "language": "python",
   "name": "conda-env-carnd-term1-py"
  },
  "language_info": {
   "codemirror_mode": {
    "name": "ipython",
    "version": 3
   },
   "file_extension": ".py",
   "mimetype": "text/x-python",
   "name": "python",
   "nbconvert_exporter": "python",
   "pygments_lexer": "ipython3",
   "version": "3.5.2"
  },
  "latex_envs": {
   "bibliofile": "biblio.bib",
   "cite_by": "apalike",
   "current_citInitial": 1,
   "eqLabelWithNumbers": true,
   "eqNumInitial": 0
  },
  "toc": {
   "toc_cell": false,
   "toc_number_sections": true,
   "toc_threshold": 6,
   "toc_window_display": false
  }
 },
 "nbformat": 4,
 "nbformat_minor": 1
}
