{
 "cells": [
  {
   "cell_type": "markdown",
   "metadata": {},
   "source": [
    "# Building a Neural Network from Scratch "
   ]
  },
  {
   "cell_type": "code",
   "execution_count": 180,
   "metadata": {},
   "outputs": [],
   "source": [
    "import numpy as np\n",
    "import pandas as pd"
   ]
  },
  {
   "cell_type": "markdown",
   "metadata": {},
   "source": [
    "# Input Data"
   ]
  },
  {
   "cell_type": "code",
   "execution_count": 181,
   "metadata": {},
   "outputs": [],
   "source": [
    "data = pd.read_csv(\"data.csv\")\n",
    "data_leatures = data[[\"gre\", \"gpa\", \"rank\"]]\n",
    "data_lables = data[\"admit\"]\n",
    "y = data_lables \n",
    "X = data_leatures.as_matrix()\n",
    "X = X[:1]\n",
    "y  = y[:1]\n",
    "X.shape\n",
    "layer_x_activation = {\n",
    "    'relu': lambda x: np.maximum(0, x),\n",
    "    'sigmoid': lambda x: 1/(1+np.exp(-x))\n",
    "}"
   ]
  },
  {
   "cell_type": "markdown",
   "metadata": {},
   "source": [
    "# Compute First Hidden Layer Values"
   ]
  },
  {
   "cell_type": "markdown",
   "metadata": {},
   "source": [
    "## Initialize Weights for the first hidden layer"
   ]
  },
  {
   "cell_type": "code",
   "execution_count": 182,
   "metadata": {},
   "outputs": [],
   "source": [
    "layer_1_NumberOfHiddenNeurons = 4"
   ]
  },
  {
   "cell_type": "code",
   "execution_count": 183,
   "metadata": {},
   "outputs": [],
   "source": [
    "NumberOfRowsInW1 = X.shape[1] # number of data points we have per input ([gre, gpa, rank] = 3)\n",
    "NumberOfColsInW1 = layer_1_NumberOfHiddenNeurons\n",
    "W1 = np.random.rand(NumberOfRowsInW1, NumberOfColsInW1) * 0.01 # row x col"
   ]
  },
  {
   "cell_type": "code",
   "execution_count": 184,
   "metadata": {},
   "outputs": [
    {
     "data": {
      "text/plain": [
       "array([[ 0.00406243,  0.00935036,  0.00542352,  0.00837482],\n",
       "       [ 0.00788238,  0.00975496,  0.00696914,  0.0015549 ],\n",
       "       [ 0.00702277,  0.00970429,  0.00760143,  0.00876302]])"
      ]
     },
     "execution_count": 184,
     "metadata": {},
     "output_type": "execute_result"
    }
   ],
   "source": [
    "W1"
   ]
  },
  {
   "cell_type": "markdown",
   "metadata": {},
   "source": [
    "## Compute Sums\n",
    "\n",
    "\n",
    " First_hidden_layer_sums $=\\sum_{i} X_iW_{ij}$\n"
   ]
  },
  {
   "cell_type": "code",
   "execution_count": 185,
   "metadata": {},
   "outputs": [
    {
     "data": {
      "text/plain": [
       "array([[ 1.59324648,  3.61746456,  2.10890068,  3.21433324]])"
      ]
     },
     "execution_count": 185,
     "metadata": {},
     "output_type": "execute_result"
    }
   ],
   "source": [
    "hidden_later_1_sums = np.dot(X, W1)\n",
    "hidden_later_1_sums"
   ]
  },
  {
   "cell_type": "markdown",
   "metadata": {},
   "source": [
    "![title](images/nn_layer1.jpg)"
   ]
  },
  {
   "cell_type": "markdown",
   "metadata": {},
   "source": [
    "## First Hidden Layer Activation function\n",
    "\n",
    "\n",
    "Use the ReLu actication function in the first Layer.\n",
    "\n"
   ]
  },
  {
   "cell_type": "code",
   "execution_count": 186,
   "metadata": {},
   "outputs": [],
   "source": [
    "hidden_later_1_activation = layer_x_activation['sigmoid'](hidden_later_1_sums)"
   ]
  },
  {
   "cell_type": "markdown",
   "metadata": {},
   "source": [
    "![title](images/nn_layer2.jpg)"
   ]
  },
  {
   "cell_type": "code",
   "execution_count": 187,
   "metadata": {},
   "outputs": [
    {
     "data": {
      "text/plain": [
       "array([[ 0.83107237,  0.97385144,  0.89176527,  0.96137011]])"
      ]
     },
     "execution_count": 187,
     "metadata": {},
     "output_type": "execute_result"
    }
   ],
   "source": [
    "hidden_later_1_activation"
   ]
  },
  {
   "cell_type": "code",
   "execution_count": 188,
   "metadata": {},
   "outputs": [
    {
     "data": {
      "text/plain": [
       "(1, 4)"
      ]
     },
     "execution_count": 188,
     "metadata": {},
     "output_type": "execute_result"
    }
   ],
   "source": [
    "hidden_later_1_output = hidden_later_1_activation\n",
    "hidden_later_1_output.shape"
   ]
  },
  {
   "cell_type": "markdown",
   "metadata": {},
   "source": [
    "# Compute Second Hidden Layer Values"
   ]
  },
  {
   "cell_type": "markdown",
   "metadata": {},
   "source": [
    "## Initialize Weights for the second hidden layer"
   ]
  },
  {
   "cell_type": "code",
   "execution_count": 189,
   "metadata": {},
   "outputs": [],
   "source": [
    "layer_2_NumberOfHiddenNeurons = 3"
   ]
  },
  {
   "cell_type": "code",
   "execution_count": 190,
   "metadata": {},
   "outputs": [],
   "source": [
    "NumberOfRowsInW2 = hidden_later_1_output.shape[1] # Number of rows = number of data points\n",
    "NumberOfColsInW2 = layer_2_NumberOfHiddenNeurons # number of neurons in hidden layer 2\n",
    "W2 = np.random.rand(NumberOfRowsInW2, NumberOfColsInW2)"
   ]
  },
  {
   "cell_type": "code",
   "execution_count": 191,
   "metadata": {},
   "outputs": [
    {
     "data": {
      "text/plain": [
       "array([[ 0.24929869,  0.76472739,  0.64165642],\n",
       "       [ 0.67370924,  0.30807162,  0.51744161],\n",
       "       [ 0.00883316,  0.13400266,  0.31187144],\n",
       "       [ 0.65990124,  0.18891927,  0.08680288]])"
      ]
     },
     "execution_count": 191,
     "metadata": {},
     "output_type": "execute_result"
    }
   ],
   "source": [
    "W2"
   ]
  },
  {
   "cell_type": "markdown",
   "metadata": {},
   "source": [
    "## Compute Sums"
   ]
  },
  {
   "cell_type": "code",
   "execution_count": 192,
   "metadata": {},
   "outputs": [],
   "source": [
    "hidden_later_2_sums = np.dot(hidden_later_1_output, W2)"
   ]
  },
  {
   "cell_type": "code",
   "execution_count": 193,
   "metadata": {},
   "outputs": [
    {
     "data": {
      "text/plain": [
       "array([[ 1.50556441,  1.23668006,  1.39873999]])"
      ]
     },
     "execution_count": 193,
     "metadata": {},
     "output_type": "execute_result"
    }
   ],
   "source": [
    "hidden_later_2_sums"
   ]
  },
  {
   "cell_type": "markdown",
   "metadata": {},
   "source": [
    "## Second Hidden Layer Activation"
   ]
  },
  {
   "cell_type": "code",
   "execution_count": 194,
   "metadata": {},
   "outputs": [],
   "source": [
    "hidden_later_2_activation = layer_x_activation['sigmoid'](hidden_later_2_sums)"
   ]
  },
  {
   "cell_type": "code",
   "execution_count": 195,
   "metadata": {},
   "outputs": [
    {
     "data": {
      "text/plain": [
       "array([[ 0.81840292,  0.7749856 ,  0.80198387]])"
      ]
     },
     "execution_count": 195,
     "metadata": {},
     "output_type": "execute_result"
    }
   ],
   "source": [
    "hidden_later_2_output = hidden_later_2_activation\n",
    "hidden_later_2_output"
   ]
  },
  {
   "cell_type": "markdown",
   "metadata": {},
   "source": [
    "![title](images/nn_full_layer2.jpg)"
   ]
  },
  {
   "cell_type": "markdown",
   "metadata": {},
   "source": [
    "# Compute Third Hidden Layer Values "
   ]
  },
  {
   "cell_type": "code",
   "execution_count": 196,
   "metadata": {},
   "outputs": [],
   "source": [
    "layer_3_NumberOfHiddenNeurons = 1"
   ]
  },
  {
   "cell_type": "code",
   "execution_count": 197,
   "metadata": {},
   "outputs": [],
   "source": [
    "NumberOfRowsInW3 = hidden_later_2_output.shape[1] # Number of rows = number of data points\n",
    "NumberOfColsInW3 = layer_3_NumberOfHiddenNeurons # number of neurons in hidden layer 2\n",
    "W3 = np.random.rand(NumberOfRowsInW3, NumberOfColsInW3)\n",
    "hidden_later_3_sums = layer_x_activation['sigmoid'](np.dot(hidden_later_2_output, W3))"
   ]
  },
  {
   "cell_type": "code",
   "execution_count": 198,
   "metadata": {},
   "outputs": [],
   "source": [
    "y_hat = hidden_later_3_sums[:, 0]"
   ]
  },
  {
   "cell_type": "markdown",
   "metadata": {},
   "source": [
    "![title](images/nn_full_layer3.jpg)"
   ]
  },
  {
   "cell_type": "markdown",
   "metadata": {},
   "source": [
    "# Predictions ($\\hat y$)\n",
    "\n",
    "$\\hat y=\\sigma(Wx+b)$"
   ]
  },
  {
   "cell_type": "code",
   "execution_count": 199,
   "metadata": {},
   "outputs": [
    {
     "data": {
      "text/plain": [
       "array([ 0.74361435])"
      ]
     },
     "execution_count": 199,
     "metadata": {},
     "output_type": "execute_result"
    }
   ],
   "source": [
    "y_hat"
   ]
  },
  {
   "cell_type": "markdown",
   "metadata": {
    "collapsed": true
   },
   "source": [
    "# Backpropagation\n",
    "\n",
    "backpropagation will consist of:\n",
    "\n",
    "- Doing a feedforward operation.\n",
    "- Comparing the output of the model with the desired output.\n",
    "- Calculating the error.\n",
    "- Running the feedforward operation backwards (backpropagation) to spread the error to each of the weights.\n",
    "- Use this to update the weights, and get a better model.\n",
    "- Continue this until we have a model that is good.\n",
    "\n",
    "\n",
    "## Error Function \n",
    "\n",
    "$E(W)=-\\frac{1}{m}\\sum_{i=1}^{m}y_iln(\\hat y_i) + (1-y_i)ln(1-\\hat y_i)$\n",
    "\n",
    "## Gradient of the error function\n",
    "\n",
    "$\\nabla E = (\\frac{\\partial{E}}{\\partial{w_1}}, \\frac{\\partial{E}}{\\partial{w_2}}, \\frac{\\partial{E}}{\\partial{w_3}}+ ... + \\frac{\\partial{E}}{\\partial{b}})$\n",
    "\n",
    "\n",
    "\n",
    "## Error in the output layer \n",
    "\n",
    "$E_{output} = (y_k - \\hat y_k)\\sigma^{\\prime}(a_k)$\n",
    "\n",
    "\n",
    "## Error in the hidden layers \n",
    "\n",
    "\n",
    "$E_{j} = \\sum{[w_{jk}E_{k}]\\sigma^{\\prime}(h_j)}$\n",
    "\n",
    "\n",
    "![title](images/hidden_error.jpg)\n"
   ]
  },
  {
   "cell_type": "markdown",
   "metadata": {
    "collapsed": true
   },
   "source": [
    "# Calculate the error "
   ]
  },
  {
   "cell_type": "code",
   "execution_count": 200,
   "metadata": {},
   "outputs": [],
   "source": [
    "E = (y - y_hat)"
   ]
  },
  {
   "cell_type": "markdown",
   "metadata": {},
   "source": [
    "## Compute error gradient in output unit\n",
    "\n",
    "\n",
    "$E^{(3)} = (y-y_{hat})\\sigma^{\\prime}(\\sum_{i}(h_{2i}w^{(3)}_{1i}))$\n",
    "\n",
    "$E^{(3)} = (y-y_{hat})\\sigma(\\sum_{i}(h_{2i}w^{(3)}_{1i}))(1-\\sigma(\\sum_{i}(h_{2i}w^{(3)}_{1i})))$\n",
    "\n",
    "$E^{(3)} = (y-y_{hat})\\sigma(h)(1-\\sigma(h))$\n",
    "\n",
    "![title](images/error_output.jpg)\n"
   ]
  },
  {
   "cell_type": "code",
   "execution_count": 248,
   "metadata": {},
   "outputs": [],
   "source": [
    "E_3 = ((y - y_hat)*y_hat*(1-y_hat))[0]"
   ]
  },
  {
   "cell_type": "code",
   "execution_count": 249,
   "metadata": {},
   "outputs": [
    {
     "data": {
      "text/plain": [
       "-0.14177159990633648"
      ]
     },
     "execution_count": 249,
     "metadata": {},
     "output_type": "execute_result"
    }
   ],
   "source": [
    "E_3"
   ]
  },
  {
   "cell_type": "markdown",
   "metadata": {},
   "source": [
    "### Compute $E^{2}$\n",
    "\n",
    "\n",
    "$E^{2} = \\sum[w^{3}E^{3}]\\sigma^{\\prime (2)}(...)$\n",
    "\n",
    "\n",
    "$\n",
    "w^{3}\n",
    "=\n",
    "\\begin{bmatrix}\n",
    "    w^{3}_{11} \\\\\n",
    "    w^{3}_{12} \\\\\n",
    "    w^{3}_{13}\n",
    "\\end{bmatrix}\n",
    "$\n",
    "\n",
    "\n",
    "$\n",
    "E^{3}\n",
    "=\n",
    "\\begin{bmatrix}\n",
    "    E^3\n",
    "\\end{bmatrix}\n",
    "$\n",
    "\n",
    "$\n",
    "\\sigma^{\\prime (2)}(...) = \\sigma^{(2)}(...)(1-\\sigma^{(2)}(...))\n",
    "$\n",
    "\n",
    "$\\sigma^{(2)}(...)=X^{2}(1-X^{2})$\n",
    "\n",
    "$\n",
    "\\begin{bmatrix}\n",
    "    w^{3}_{11} \\\\\n",
    "    w^{3}_{12} \\\\\n",
    "    w^{3}_{13}\n",
    "\\end{bmatrix}\n",
    "\\begin{bmatrix}\n",
    "    E^3\n",
    "\\end{bmatrix}\n",
    "X^{2}(1-X^{2})\n",
    "$\n"
   ]
  },
  {
   "cell_type": "code",
   "execution_count": 271,
   "metadata": {},
   "outputs": [
    {
     "data": {
      "text/plain": [
       "array([[ 0.14861958,  0.17438292,  0.15880574]])"
      ]
     },
     "execution_count": 271,
     "metadata": {},
     "output_type": "execute_result"
    }
   ],
   "source": [
    "sigma_2_prime = hidden_later_2_output * (1-hidden_later_2_output)\n",
    "sigma_2_prime"
   ]
  },
  {
   "cell_type": "code",
   "execution_count": 284,
   "metadata": {},
   "outputs": [],
   "source": [
    "E_2  = (np.dot(E_3, W3).T*sigma_2_prime).T"
   ]
  },
  {
   "cell_type": "code",
   "execution_count": 285,
   "metadata": {},
   "outputs": [
    {
     "data": {
      "text/plain": [
       "array([[-0.00721922],\n",
       "       [-0.01375461],\n",
       "       [-0.0099171 ]])"
      ]
     },
     "execution_count": 285,
     "metadata": {},
     "output_type": "execute_result"
    }
   ],
   "source": [
    "E_2 "
   ]
  },
  {
   "cell_type": "markdown",
   "metadata": {},
   "source": [
    "## Compute error gradient in hidden layer 2"
   ]
  },
  {
   "cell_type": "code",
   "execution_count": 144,
   "metadata": {},
   "outputs": [],
   "source": [
    "E_layer2 = np.dot(E_output[:, None], W3.T)*hidden_later_2_output*(1-hidden_later_2_output)"
   ]
  },
  {
   "cell_type": "code",
   "execution_count": 145,
   "metadata": {},
   "outputs": [
    {
     "data": {
      "text/plain": [
       "array([[-0.00359111, -0.01917735, -0.00640235]])"
      ]
     },
     "execution_count": 145,
     "metadata": {},
     "output_type": "execute_result"
    }
   ],
   "source": [
    "E_layer2"
   ]
  },
  {
   "cell_type": "markdown",
   "metadata": {},
   "source": [
    "![title](images/error_layer_2.jpg)"
   ]
  },
  {
   "cell_type": "code",
   "execution_count": 233,
   "metadata": {},
   "outputs": [
    {
     "data": {
      "text/plain": [
       "array([[-0.00359111, -0.01917735, -0.00640235]])"
      ]
     },
     "execution_count": 233,
     "metadata": {},
     "output_type": "execute_result"
    }
   ],
   "source": [
    "E_layer2"
   ]
  },
  {
   "cell_type": "markdown",
   "metadata": {},
   "source": [
    "## Compute error gradient in hidden layer 1"
   ]
  },
  {
   "cell_type": "code",
   "execution_count": 146,
   "metadata": {},
   "outputs": [],
   "source": [
    "E_layer1 = np.dot(E_layer2, W2.T)*hidden_later_1_output*(1-hidden_later_1_output)"
   ]
  },
  {
   "cell_type": "code",
   "execution_count": 147,
   "metadata": {},
   "outputs": [
    {
     "data": {
      "text/plain": [
       "array([[-0.00012288, -0.00077438, -0.00361205, -0.00040351]])"
      ]
     },
     "execution_count": 147,
     "metadata": {},
     "output_type": "execute_result"
    }
   ],
   "source": [
    "E_layer1"
   ]
  },
  {
   "cell_type": "markdown",
   "metadata": {},
   "source": [
    "![title](images/error_layer_3.jpg)"
   ]
  },
  {
   "cell_type": "markdown",
   "metadata": {},
   "source": [
    "# Compute Errors "
   ]
  },
  {
   "cell_type": "markdown",
   "metadata": {},
   "source": [
    "## Compute errors at the layer 3 (output layer) \n",
    "\n"
   ]
  },
  {
   "cell_type": "code",
   "execution_count": 246,
   "metadata": {},
   "outputs": [],
   "source": []
  },
  {
   "cell_type": "code",
   "execution_count": 247,
   "metadata": {},
   "outputs": [
    {
     "data": {
      "text/plain": [
       "-0.14177159990633648"
      ]
     },
     "execution_count": 247,
     "metadata": {},
     "output_type": "execute_result"
    }
   ],
   "source": [
    "E_3"
   ]
  },
  {
   "cell_type": "code",
   "execution_count": null,
   "metadata": {},
   "outputs": [],
   "source": []
  }
 ],
 "metadata": {
  "anaconda-cloud": {},
  "kernelspec": {
   "display_name": "Python 3",
   "language": "python",
   "name": "python3"
  },
  "language_info": {
   "codemirror_mode": {
    "name": "ipython",
    "version": 3
   },
   "file_extension": ".py",
   "mimetype": "text/x-python",
   "name": "python",
   "nbconvert_exporter": "python",
   "pygments_lexer": "ipython3",
   "version": "3.5.2"
  },
  "latex_envs": {
   "bibliofile": "biblio.bib",
   "cite_by": "apalike",
   "current_citInitial": 1,
   "eqLabelWithNumbers": true,
   "eqNumInitial": 0
  },
  "toc": {
   "toc_cell": false,
   "toc_number_sections": true,
   "toc_threshold": 6,
   "toc_window_display": false
  },
  "widgets": {
   "state": {},
   "version": "1.1.2"
  }
 },
 "nbformat": 4,
 "nbformat_minor": 1
}
