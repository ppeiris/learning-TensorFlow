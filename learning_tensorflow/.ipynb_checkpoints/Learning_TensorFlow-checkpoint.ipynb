{
 "cells": [
  {
   "cell_type": "markdown",
   "metadata": {},
   "source": [
    "https://www.tensorflow.org/ \n",
    "\n",
    "![TensorFlow](images/tensorflow.png)\n",
    "\n",
    "# Learning TensorFlow\n",
    "\n",
    "\n",
    "\n"
   ]
  },
  {
   "cell_type": "markdown",
   "metadata": {},
   "source": [
    "## Install \n",
    "\n",
    "Install using conda in linux\n",
    "```bash\n",
    "conda create -n tensorflow python=3.5\n",
    "source activate tensorflow\n",
    "conda install pandas matplotlib jupyter notebook scipy scikit-learn\n",
    "pip install tensorflow\n",
    "```"
   ]
  },
  {
   "cell_type": "markdown",
   "metadata": {},
   "source": [
    "## Activate/Deactivate python env\n",
    "\n",
    "\n",
    "```bash\n",
    "source activate tensorflow\n",
    "deactivate tensorflow\n",
    "```"
   ]
  },
  {
   "cell_type": "markdown",
   "metadata": {},
   "source": [
    "## Write the first program "
   ]
  },
  {
   "cell_type": "code",
   "execution_count": 5,
   "metadata": {
    "collapsed": false
   },
   "outputs": [
    {
     "name": "stdout",
     "output_type": "stream",
     "text": [
      "Extracting MNIST_data/train-images-idx3-ubyte.gz\n",
      "Extracting MNIST_data/train-labels-idx1-ubyte.gz\n",
      "Extracting MNIST_data/t10k-images-idx3-ubyte.gz\n",
      "Extracting MNIST_data/t10k-labels-idx1-ubyte.gz\n"
     ]
    }
   ],
   "source": [
    "from tensorflow.examples.tutorials.mnist import input_data\n",
    "import numpy as np\n",
    "# Download the mnist dataset. \n",
    "mnist = input_data.read_data_sets(\"MNIST_data/\", one_hot=True)"
   ]
  },
  {
   "cell_type": "code",
   "execution_count": 7,
   "metadata": {
    "collapsed": false
   },
   "outputs": [
    {
     "name": "stdout",
     "output_type": "stream",
     "text": [
      "b'Hello World !'\n"
     ]
    }
   ],
   "source": [
    "import tensorflow as tf\n",
    "import numpy as np\n",
    "helloworld = tf.constant(\"Hello World !\") # Objects created by TF is call tensor\n",
    "output = tf.Session().run(helloworld)     # Run the constant in the TF session\n",
    "print(output)"
   ]
  },
  {
   "cell_type": "markdown",
   "metadata": {},
   "source": [
    "---\n",
    "# Tensor\n",
    "\n",
    "A mathematical object analogous to but more general than a vector, represented by an array of components that are functions of the coordinates of a space. **The central unit of data in TensorFlow is the tensor**. Everything store in TF as a tensor object.\n",
    "\n",
    "- **Rank 0 Tensor**:\n",
    "\n",
    "    + Scaler is a rank 0 tensor and in TF it represent as follows.\n",
    "\n",
    "    + *This is a constant tensor that does not change*\n",
    "\n",
    "    ```js\n",
    "    A = tf.constant(123)\n",
    "    ``` \n",
    "\n",
    "\n",
    "\n",
    "- **Rank 1 Tensor**:\n",
    "\n",
    "    + Rank 1 Tensor is a Vector and in TF it represents as follows \n",
    "\n",
    "    ```js\n",
    "    B = ft.constant([23, 49, 42])\n",
    "    ```\n",
    "\n",
    "- **Rank 2 Tensor**:\n",
    "\n",
    "    + Rank 2 Tensor is a Matrix and in TF it represent as follows\n",
    "\n",
    "    ```js\n",
    "    C = ft.constant([[23,21,89], [34,982,83]])\n",
    "    ```\n",
    "\n",
    "- **Rank 3 Tensor**:\n",
    "\n",
    "    + Rank 3 Tensor is a 3D array and in TF it represent as follows\n",
    "\n",
    "    ```js\n",
    "    D = ft.constant([[[1., 2., 3.]], [[7., 8., 9.]]])\n",
    "    ```\n"
   ]
  },
  {
   "cell_type": "markdown",
   "metadata": {},
   "source": [
    "---\n",
    "# Session\n",
    "\n",
    "TF api is build around the idea of building a computational grpah of notes and running them. A session encapsulates the control and state of the TensorFlow runtime. \n",
    "\n",
    "\n",
    "## Work with constant tensors"
   ]
  },
  {
   "cell_type": "code",
   "execution_count": 10,
   "metadata": {
    "collapsed": false
   },
   "outputs": [
    {
     "name": "stdout",
     "output_type": "stream",
     "text": [
      "Tensor(\"Const_5:0\", shape=(), dtype=float32)\n"
     ]
    }
   ],
   "source": [
    "node1 = tf.constant(3.0, dtype=tf.float32)\n",
    "node2 = tf.constant(4.0) \n",
    "print(node1)"
   ]
  },
  {
   "cell_type": "markdown",
   "metadata": {},
   "source": [
    "### Add two tensors\n",
    "Adding two tensors (nodes) produce This will procuce a another tensor (node). "
   ]
  },
  {
   "cell_type": "markdown",
   "metadata": {},
   "source": [
    "![](images/tf.add.run.jpeg)"
   ]
  },
  {
   "cell_type": "code",
   "execution_count": 20,
   "metadata": {
    "collapsed": false
   },
   "outputs": [
    {
     "name": "stdout",
     "output_type": "stream",
     "text": [
      "7.0\n"
     ]
    }
   ],
   "source": [
    "node3 = tf.add(node1, node2)\n",
    "sess = tf.Session()\n",
    "numerical_output = sess.run(node3)\n",
    "print(numerical_output)"
   ]
  },
  {
   "cell_type": "markdown",
   "metadata": {},
   "source": [
    "### Placeholders In TenforFlow "
   ]
  },
  {
   "cell_type": "code",
   "execution_count": 26,
   "metadata": {
    "collapsed": false
   },
   "outputs": [
    {
     "data": {
      "text/plain": [
       "15.0"
      ]
     },
     "execution_count": 26,
     "metadata": {},
     "output_type": "execute_result"
    }
   ],
   "source": [
    "x = tf.placeholder(tf.float32)  # x is a Tensor variable that takes integer value\n",
    "y = tf.placeholder(tf.float32)  # y is a Tensor variable that takes integer value\n",
    "sum_xy = x + y # this is same as tf.add(x, y)\n",
    "sess.run(sum_xy, feed_dict={x:13, y:2})"
   ]
  },
  {
   "cell_type": "code",
   "execution_count": 27,
   "metadata": {
    "collapsed": false
   },
   "outputs": [
    {
     "data": {
      "text/plain": [
       "4.0"
      ]
     },
     "execution_count": 27,
     "metadata": {},
     "output_type": "execute_result"
    }
   ],
   "source": [
    "sess.run(sum_xy, feed_dict={x:2, y:2})"
   ]
  },
  {
   "cell_type": "markdown",
   "metadata": {},
   "source": [
    "### Variables in TensorFlow \n",
    "\n",
    "- TF variables can be modify as usual variables.\n",
    "- Regular variables does not get initialize when creating them\n",
    "- Call *global_variables_initializer()* method and run that within the session."
   ]
  },
  {
   "cell_type": "code",
   "execution_count": 28,
   "metadata": {
    "collapsed": false
   },
   "outputs": [
    {
     "data": {
      "text/plain": [
       "5"
      ]
     },
     "execution_count": 28,
     "metadata": {},
     "output_type": "execute_result"
    }
   ],
   "source": [
    "x = tf.Variable(5) # x is initialize with 5 and can be modify\n",
    "init = tf.global_variables_initializer()\n",
    "sess.run(init)\n",
    "sess.run(x)"
   ]
  },
  {
   "cell_type": "markdown",
   "metadata": {},
   "source": [
    "# TensorFlow Math "
   ]
  },
  {
   "cell_type": "code",
   "execution_count": 29,
   "metadata": {
    "collapsed": true
   },
   "outputs": [],
   "source": [
    "a = tf.add(5, 2)  # 7"
   ]
  },
  {
   "cell_type": "code",
   "execution_count": 30,
   "metadata": {
    "collapsed": true
   },
   "outputs": [],
   "source": [
    "b = tf.subtract(10, 4) # 6"
   ]
  },
  {
   "cell_type": "code",
   "execution_count": 31,
   "metadata": {
    "collapsed": true
   },
   "outputs": [],
   "source": [
    "c = tf.multiply(2, 5)"
   ]
  },
  {
   "cell_type": "code",
   "execution_count": 32,
   "metadata": {
    "collapsed": false
   },
   "outputs": [
    {
     "name": "stdout",
     "output_type": "stream",
     "text": [
      "[7, 6, 10]\n"
     ]
    }
   ],
   "source": [
    "print(sess.run([a, b, c]))"
   ]
  },
  {
   "cell_type": "markdown",
   "metadata": {},
   "source": [
    "# Type Casting in TF\n",
    "\n",
    "Type cast float to integer"
   ]
  },
  {
   "cell_type": "code",
   "execution_count": 35,
   "metadata": {
    "collapsed": false
   },
   "outputs": [
    {
     "name": "stdout",
     "output_type": "stream",
     "text": [
      "2.0\n"
     ]
    }
   ],
   "source": [
    "x = tf.constant(2.0) # Floating point number \n",
    "print(sess.run(x))"
   ]
  },
  {
   "cell_type": "code",
   "execution_count": 36,
   "metadata": {
    "collapsed": false
   },
   "outputs": [
    {
     "name": "stdout",
     "output_type": "stream",
     "text": [
      "2\n"
     ]
    }
   ],
   "source": [
    "y = tf.cast(x, tf.int32) # Integer number\n",
    "print(sess.run(y))"
   ]
  },
  {
   "cell_type": "markdown",
   "metadata": {
    "collapsed": true
   },
   "source": [
    "# Define Linear Function \n",
    "\n",
    "$y=xW + b$"
   ]
  },
  {
   "cell_type": "markdown",
   "metadata": {
    "collapsed": true
   },
   "source": [
    "![](images/linearfunction.jpg)"
   ]
  },
  {
   "cell_type": "markdown",
   "metadata": {},
   "source": [
    "## Define the input variable $x$\n",
    "\n",
    "\n",
    "$x_i$ is an input. For example this can be a vector of an image. So lets assume this is a vector length of 5"
   ]
  },
  {
   "cell_type": "markdown",
   "metadata": {
    "collapsed": true
   },
   "source": [
    "![](images/x_matrix.jpg)"
   ]
  },
  {
   "cell_type": "code",
   "execution_count": 37,
   "metadata": {
    "collapsed": true
   },
   "outputs": [],
   "source": [
    "number_of_data_vectors = 120 # this could be the number of images I have in my data set\n",
    "length_of_data_vector = 6 # length of the ibserved data vector\n",
    "number_of_categories = 5 # this is the number of categories I have to categorize"
   ]
  },
  {
   "cell_type": "markdown",
   "metadata": {},
   "source": [
    "_Note: Randomly generating $x_i$ vectors just for the demonstration. In real project these are the observed data (ex, image with (20px) x (20px) = (300px))_"
   ]
  },
  {
   "cell_type": "code",
   "execution_count": 39,
   "metadata": {
    "collapsed": false,
    "scrolled": true
   },
   "outputs": [
    {
     "data": {
      "text/plain": [
       "array([[-1.37163258, -1.120718  ,  0.68117326,  0.23860668,  0.24659702,\n",
       "        -0.26429233],\n",
       "       [-0.48678681,  0.3188653 , -0.340094  ,  1.33552933, -1.20779932,\n",
       "         0.10314474],\n",
       "       [ 0.81822699,  0.237031  , -1.21460426,  0.19686605,  1.65755033,\n",
       "        -1.4732542 ],\n",
       "       [-0.89723796,  0.41721019,  0.8114472 , -1.45597553, -0.20714021,\n",
       "         0.87003368],\n",
       "       [-0.35346675, -0.19916253, -0.00629265, -0.44648668, -0.47050682,\n",
       "        -0.58709157],\n",
       "       [ 0.03624677,  0.88690758,  0.35367313,  0.02107221, -0.15830362,\n",
       "        -1.30137086],\n",
       "       [-0.18690935,  0.68616128,  0.62040877, -1.09216321, -0.77091652,\n",
       "         1.03800392],\n",
       "       [ 0.82689762, -1.2707144 ,  0.80740076, -0.07831069, -1.87000883,\n",
       "         1.40973043],\n",
       "       [ 0.46644118,  0.66127664,  0.71061063, -0.08717158, -0.11512861,\n",
       "        -0.33586648],\n",
       "       [ 1.12521851, -0.2940726 ,  1.92749083, -0.32153317,  0.74235499,\n",
       "         0.02747563]], dtype=float32)"
      ]
     },
     "execution_count": 39,
     "metadata": {},
     "output_type": "execute_result"
    }
   ],
   "source": [
    "x = tf.Variable(tf.truncated_normal((number_of_data_vectors, length_of_data_vector)))\n",
    "sess.run(tf.global_variables_initializer()) # Initialize the variable x in the session (sess)\n",
    "sess.run(x)[:10] # Print the first 10 "
   ]
  },
  {
   "cell_type": "markdown",
   "metadata": {},
   "source": [
    "## Define weights $W$\n",
    "\n",
    "Initializing the weights with random values is important. Randomizing weights help the model get stuck in local minima everytime we train it. Choosing random weights from a normal distribution is a good practice. \n"
   ]
  },
  {
   "cell_type": "markdown",
   "metadata": {},
   "source": [
    "![](images/w_matrix.jpg)"
   ]
  },
  {
   "cell_type": "code",
   "execution_count": 40,
   "metadata": {
    "collapsed": false,
    "scrolled": false
   },
   "outputs": [
    {
     "data": {
      "text/plain": [
       "array([[ 0.56659377,  0.52709264, -0.37136295, -0.78344363,  0.17407295],\n",
       "       [ 0.94869137, -1.07415283,  1.47083795,  0.03947164, -0.36679548],\n",
       "       [-1.81448364, -0.88770545, -1.11148608, -0.9016487 , -1.53345048],\n",
       "       [ 0.3157762 , -1.13129508,  0.15810594,  0.05171677,  0.25179809],\n",
       "       [ 0.78519398,  0.08177385,  0.57111883, -1.43667269, -0.50185204],\n",
       "       [ 1.245767  , -0.23355483, -0.50478655, -0.17875008, -0.55706263]], dtype=float32)"
      ]
     },
     "execution_count": 40,
     "metadata": {},
     "output_type": "execute_result"
    }
   ],
   "source": [
    "W = tf.Variable(tf.truncated_normal((length_of_data_vector, number_of_categories)))\n",
    "sess.run(tf.global_variables_initializer())\n",
    "sess.run(W)"
   ]
  },
  {
   "cell_type": "markdown",
   "metadata": {},
   "source": [
    "## Define biases $b$\n",
    "\n",
    "Biases also can be initialize with random values. Since weights are initialize with random values, we can define biases with zero."
   ]
  },
  {
   "cell_type": "markdown",
   "metadata": {},
   "source": [
    "![](images/b.jpg)"
   ]
  },
  {
   "cell_type": "code",
   "execution_count": 41,
   "metadata": {
    "collapsed": true
   },
   "outputs": [],
   "source": [
    "b = tf.Variable(tf.zeros(number_of_categories))"
   ]
  },
  {
   "cell_type": "code",
   "execution_count": 42,
   "metadata": {
    "collapsed": false
   },
   "outputs": [
    {
     "data": {
      "text/plain": [
       "array([ 0.,  0.,  0.,  0.,  0.], dtype=float32)"
      ]
     },
     "execution_count": 42,
     "metadata": {},
     "output_type": "execute_result"
    }
   ],
   "source": [
    "sess.run(tf.global_variables_initializer()) \n",
    "sess.run(b)"
   ]
  },
  {
   "cell_type": "markdown",
   "metadata": {},
   "source": [
    "## Calculate the linear function   \n",
    "$y=xW + b$"
   ]
  },
  {
   "cell_type": "markdown",
   "metadata": {},
   "source": [
    "![](images/linear.jpg)"
   ]
  },
  {
   "cell_type": "code",
   "execution_count": 43,
   "metadata": {
    "collapsed": false,
    "scrolled": false
   },
   "outputs": [
    {
     "data": {
      "text/plain": [
       "array([[  1.92972851e+00,  -5.25490999e-01,   2.28202254e-01,\n",
       "          2.15020239e-01,   1.90408409e+00],\n",
       "       [ -1.32976270e+00,  -9.11482036e-01,  -5.06391108e-01,\n",
       "         -1.44871545e+00,   2.21602416e+00],\n",
       "       [ -2.17019990e-01,  -4.21251655e-02,   1.22052431e-03,\n",
       "         -8.92342985e-01,   2.54472399e+00],\n",
       "       [  2.27298355e+00,   6.38400912e-01,   8.35950315e-01,\n",
       "         -6.33156896e-02,  -3.95241499e-01],\n",
       "       [ -2.06318930e-01,   1.61427116e+00,   5.17454576e+00,\n",
       "         -2.72287250e-01,   1.57459676e-02],\n",
       "       [  7.60614336e-01,   8.81396890e-01,   2.27614260e+00,\n",
       "          4.87145245e-01,  -4.02337611e-01],\n",
       "       [  6.79154038e-01,  -7.69664347e-01,  -1.25312769e+00,\n",
       "          1.95053554e+00,  -1.99529970e+00],\n",
       "       [  1.67160082e+00,  -2.56617069e+00,  -2.56597471e+00,\n",
       "         -2.37421393e-01,   3.56479359e+00],\n",
       "       [  7.65899777e-01,   4.60203111e-01,   1.76322770e+00,\n",
       "          2.57929039e+00,  -3.22916174e+00],\n",
       "       [ -1.64316690e+00,  -1.68099046e+00,  -2.20728636e+00,\n",
       "         -9.59729791e-01,   1.07362926e+00]], dtype=float32)"
      ]
     },
     "execution_count": 43,
     "metadata": {},
     "output_type": "execute_result"
    }
   ],
   "source": [
    "y = tf.add(tf.matmul(x, W), b)\n",
    "sess.run(y)[:10]"
   ]
  },
  {
   "cell_type": "markdown",
   "metadata": {},
   "source": [
    "# Calculate the softmax\n",
    "\n",
    "Softmax function scale $y$ to be between $0$ and $1$"
   ]
  },
  {
   "cell_type": "markdown",
   "metadata": {},
   "source": [
    "![](images/softmax.jpg)"
   ]
  },
  {
   "cell_type": "markdown",
   "metadata": {},
   "source": [
    "![](images/softmaxy.jpg)"
   ]
  },
  {
   "cell_type": "code",
   "execution_count": 44,
   "metadata": {
    "collapsed": false,
    "scrolled": false
   },
   "outputs": [
    {
     "data": {
      "text/plain": [
       "array([[ 0.41272056,  0.03542973,  0.07528225,  0.07429639,  0.40227115],\n",
       "       [ 0.02478172,  0.03765203,  0.05645693,  0.02200245,  0.85910684],\n",
       "       [ 0.05057805,  0.06024458,  0.06291334,  0.02574382,  0.80052018],\n",
       "       [ 0.62549824,  0.12199327,  0.14863822,  0.06047617,  0.0433941 ],\n",
       "       [ 0.00441364,  0.02725644,  0.95868689,  0.00413188,  0.0055111 ],\n",
       "       [ 0.12897398,  0.14553158,  0.58706695,  0.09811512,  0.04031239],\n",
       "       [ 0.19942625,  0.04683479,  0.02888039,  0.71110922,  0.01374934],\n",
       "       [ 0.12791578,  0.00184707,  0.00184743,  0.01896035,  0.84942943],\n",
       "       [ 0.09436414,  0.06950958,  0.25582385,  0.57856554,  0.0017369 ],\n",
       "       [ 0.05090566,  0.04901619,  0.02895823,  0.1008275 ,  0.77029246]], dtype=float32)"
      ]
     },
     "execution_count": 44,
     "metadata": {},
     "output_type": "execute_result"
    }
   ],
   "source": [
    "y = tf.nn.softmax(y)    \n",
    "sess.run(y)[:10]"
   ]
  },
  {
   "cell_type": "markdown",
   "metadata": {},
   "source": [
    "# Clculate Cross Entropy in TensorFlow"
   ]
  },
  {
   "cell_type": "code",
   "execution_count": 45,
   "metadata": {
    "collapsed": false,
    "scrolled": true
   },
   "outputs": [
    {
     "name": "stdout",
     "output_type": "stream",
     "text": [
      "[[ 0.  0.  0.  0.  0.]\n",
      " [ 0.  1.  0.  0.  0.]\n",
      " [ 1.  0.  0.  0.  0.]\n",
      " [ 0.  0.  0.  0.  0.]\n",
      " [ 0.  0.  0.  1.  0.]\n",
      " [ 1.  0.  0.  0.  0.]\n",
      " [ 0.  0.  0.  1.  0.]\n",
      " [ 0.  0.  0.  0.  0.]\n",
      " [ 0.  0.  0.  0.  1.]\n",
      " [ 0.  0.  0.  0.  0.]]\n",
      "<tf.Variable 'Variable_5:0' shape=(120, 5) dtype=float32_ref>\n"
     ]
    }
   ],
   "source": [
    "# start from here \n",
    "y_hat_data = mnist.test.labels.astype(np.float32) # just to simulate, I am loading lables from mist dataset\n",
    "y_hat_data = y_hat_data[:,[1, 2, 3, 4, 5]][:120]\n",
    "print(y_hat_data[:10]) # show the first 10 rows \n",
    "y_hat = tf.Variable(y_hat_data)\n",
    "sess.run(tf.global_variables_initializer())\n",
    "print(y_hat)"
   ]
  },
  {
   "cell_type": "markdown",
   "metadata": {},
   "source": [
    "![](images/crossentropydata.jpg)"
   ]
  },
  {
   "cell_type": "code",
   "execution_count": 46,
   "metadata": {
    "collapsed": true
   },
   "outputs": [],
   "source": [
    "crosse = -tf.reduce_sum(tf.multiply(tf.log(y), y_hat))"
   ]
  },
  {
   "cell_type": "markdown",
   "metadata": {},
   "source": [
    "# Mini Batching \n",
    "\n",
    "It takes so much memory to train a model with large dataset. This may be not be realaistic even with less expensive memory. As a solution, we can use the mini batching: take subsets of data from the whole dataset and train the model for each subset. This is not ideal but its allows us to train the model with less amount of memory."
   ]
  },
  {
   "cell_type": "code",
   "execution_count": 47,
   "metadata": {
    "collapsed": true
   },
   "outputs": [],
   "source": [
    "n_input = 784  # MNIST data input (img shape: 28*28)\n",
    "n_classes = 10  # MNIST total classes (0-9 digits)\n",
    "\n",
    "# Import MNIST data\n",
    "# mnist = input_data.read_data_sets('/datasets/ud730/mnist', one_hot=True)\n",
    "\n",
    "# The features are already scaled and the data is shuffled\n",
    "train_features = mnist.train.images\n",
    "test_features = mnist.test.images\n",
    "\n",
    "train_labels = mnist.train.labels.astype(np.float32)\n",
    "test_labels = mnist.test.labels.astype(np.float32)\n",
    "\n",
    "# Weights & bias\n",
    "weights = tf.Variable(tf.random_normal([n_input, n_classes]))\n",
    "bias = tf.Variable(tf.random_normal([n_classes]))"
   ]
  },
  {
   "cell_type": "markdown",
   "metadata": {},
   "source": [
    "## Divide the data in to batches"
   ]
  },
  {
   "cell_type": "markdown",
   "metadata": {},
   "source": [
    "## Create the model\n",
    "\n",
    "\n",
    "![](images/graph1.jpg)"
   ]
  },
  {
   "cell_type": "code",
   "execution_count": 48,
   "metadata": {
    "collapsed": true
   },
   "outputs": [],
   "source": [
    "learning_rate = 0.001\n",
    "n_input = 784  # MNIST data input (img shape: 28*28)\n",
    "n_classes = 10  # MNIST total classes (0-9 digits)\n",
    "\n",
    "# The features are already scaled and the data is shuffled\n",
    "train_features = mnist.train.images\n",
    "test_features = mnist.test.images\n",
    "\n",
    "train_labels = mnist.train.labels.astype(np.float32)\n",
    "test_labels = mnist.test.labels.astype(np.float32)\n",
    "\n",
    "# Features and Labels\n",
    "features = tf.placeholder(tf.float32, [None, n_input])\n",
    "labels = tf.placeholder(tf.float32, [None, n_classes])\n",
    "\n",
    "# Weights & bias\n",
    "weights = tf.Variable(tf.random_normal([n_input, n_classes]))\n",
    "bias = tf.Variable(tf.random_normal([n_classes]))\n",
    " \n",
    "# Logits - xW + b\n",
    "logits = tf.add(tf.matmul(features, weights), bias)\n",
    "\n",
    "# Define loss and optimizer\n",
    "cost = tf.reduce_mean(tf.nn.softmax_cross_entropy_with_logits(logits=logits, labels=labels))\n",
    "optimizer = tf.train.GradientDescentOptimizer(learning_rate=learning_rate).minimize(cost)\n",
    "\n",
    "# Calculate accuracy\n",
    "correct_prediction = tf.equal(tf.argmax(logits, 1), tf.argmax(labels, 1))\n",
    "accuracy = tf.reduce_mean(tf.cast(correct_prediction, tf.float32))\n",
    "\n",
    "\n",
    "# TODO: Set batch size\n",
    "batch_size = 128\n",
    "assert batch_size is not None, 'You must set the batch size'"
   ]
  },
  {
   "cell_type": "markdown",
   "metadata": {},
   "source": [
    "# Train the model using entier dataset"
   ]
  },
  {
   "cell_type": "code",
   "execution_count": 49,
   "metadata": {
    "collapsed": false
   },
   "outputs": [
    {
     "name": "stdout",
     "output_type": "stream",
     "text": [
      "Test Accuracy: 0.04450000077486038\n"
     ]
    }
   ],
   "source": [
    "init = tf.global_variables_initializer()\n",
    "\n",
    "with tf.Session() as sess:\n",
    "    sess.run(init)\n",
    "    # Use the enter dataset\n",
    "    sess.run(optimizer, feed_dict={features: train_features, labels: train_labels})\n",
    "    test_accuracy = sess.run(\n",
    "        accuracy,\n",
    "        feed_dict={features: test_features, labels: test_labels})\n",
    "\n",
    "print('Test Accuracy: {}'.format(test_accuracy))\n"
   ]
  },
  {
   "cell_type": "markdown",
   "metadata": {},
   "source": [
    "# Train the model using Mini-batches"
   ]
  },
  {
   "cell_type": "markdown",
   "metadata": {},
   "source": [
    "## Create batches\n",
    "![](images/batch.jpg)"
   ]
  },
  {
   "cell_type": "code",
   "execution_count": 153,
   "metadata": {
    "collapsed": true
   },
   "outputs": [],
   "source": [
    "import math\n",
    "def batches(batch_size, features, labels):\n",
    "    \"\"\"\n",
    "    Create batches of features and labels\n",
    "    :param batch_size: The batch size\n",
    "    :param features: List of features\n",
    "    :param labels: List of labels\n",
    "    :return: Batches of (Features, Labels)\n",
    "    \"\"\"\n",
    "    assert len(features) == len(labels)\n",
    "    outout_batches = []\n",
    "    \n",
    "    sample_size = len(features)\n",
    "    for start_i in range(0, sample_size, batch_size):\n",
    "        end_i = start_i + batch_size\n",
    "        batch = [features[start_i:end_i], labels[start_i:end_i]]\n",
    "        outout_batches.append(batch)\n",
    "        \n",
    "    return outout_batches\n"
   ]
  },
  {
   "cell_type": "markdown",
   "metadata": {},
   "source": [
    "## Train "
   ]
  },
  {
   "cell_type": "code",
   "execution_count": 152,
   "metadata": {
    "collapsed": false
   },
   "outputs": [
    {
     "name": "stdout",
     "output_type": "stream",
     "text": [
      "Test Accuracy: 0.06440000236034393\n"
     ]
    }
   ],
   "source": [
    "init = tf.global_variables_initializer()\n",
    "\n",
    "with tf.Session() as sess:\n",
    "    sess.run(init)    \n",
    "    # Train the optimizer for each batch\n",
    "    for batch_features, batch_labels in batches(batch_size, train_features, train_labels):\n",
    "        sess.run(optimizer, feed_dict={features: batch_features, labels: batch_labels})\n",
    "\n",
    "    # Calculate accuracy for test dataset\n",
    "    test_accuracy = sess.run(\n",
    "        accuracy,\n",
    "        feed_dict={features: test_features, labels: test_labels})\n",
    "\n",
    "print('Test Accuracy: {}'.format(test_accuracy))\n"
   ]
  },
  {
   "cell_type": "markdown",
   "metadata": {},
   "source": [
    "# Epochs"
   ]
  },
  {
   "cell_type": "markdown",
   "metadata": {
    "collapsed": true
   },
   "source": [
    "- Epoch is a single training (forward and backward pass) of the entier dataset. If we are using mini-batches, we have to train with all the batches within a epoch. \n",
    "- This increase the accuracy of th model without requiring more data. "
   ]
  },
  {
   "cell_type": "markdown",
   "metadata": {},
   "source": [
    "![](images/epochs.jpg)"
   ]
  },
  {
   "cell_type": "code",
   "execution_count": null,
   "metadata": {
    "collapsed": true
   },
   "outputs": [],
   "source": []
  }
 ],
 "metadata": {
  "anaconda-cloud": {},
  "kernelspec": {
   "display_name": "Python [conda env:carnd-term1]",
   "language": "python",
   "name": "conda-env-carnd-term1-py"
  },
  "language_info": {
   "codemirror_mode": {
    "name": "ipython",
    "version": 3
   },
   "file_extension": ".py",
   "mimetype": "text/x-python",
   "name": "python",
   "nbconvert_exporter": "python",
   "pygments_lexer": "ipython3",
   "version": "3.5.2"
  },
  "latex_envs": {
   "bibliofile": "biblio.bib",
   "cite_by": "apalike",
   "current_citInitial": 1,
   "eqLabelWithNumbers": true,
   "eqNumInitial": 0
  },
  "toc": {
   "toc_cell": false,
   "toc_number_sections": true,
   "toc_threshold": 6,
   "toc_window_display": false
  }
 },
 "nbformat": 4,
 "nbformat_minor": 2
}
